{
  "cells": [
    {
      "cell_type": "markdown",
      "metadata": {},
      "source": [
        "# Análise de Clusters (KMeans) em Métricas Financeiras\n",
        "\n",
        "Este notebook unifica os exemplos anteriores e executa KMeans com K = 4, 5 e 6 em três conjuntos de dados:\n",
        "- Empresas do Brasil\n",
        "- Empresas dos EUA\n",
        "- Empresas dos EUA + Brasil\n",
        "\n",
        "O código original foi mantido. Apenas os títulos e comentários explicativos foram traduzidos para português.\n"
      ]
    },
    {
      "cell_type": "markdown",
      "metadata": {},
      "source": [
        "## Configuração Comum\n",
        "\n",
        "As próximas células importam as funções utilitárias e definem configurações comuns (mantidas como no código original).\n"
      ]
    },
    {
      "cell_type": "code",
      "execution_count": null,
      "metadata": {},
      "outputs": [],
      "source": [
        "from src.kmean_modeling import calculate_inertia, apply_kmeans_and_visualize\n",
        "from src.data_processing import fetch_financial_metrics\n",
        "from src.preprocessing import create_preprocessor, preview_transformation\n",
        "import pandas as pd\n",
        "import os\n",
        "os.environ[\"LOKY_MAX_CPU_COUNT\"] = \"4\"  # Ajuste para o número de núcleos físicos\n"
      ]
    },
    {
      "cell_type": "markdown",
      "metadata": {},
      "source": [
        "## Exemplo: Brasil\n",
        "\n",
        "Conjunto de tickers de empresas brasileiras. Mantemos o mesmo fluxo de pré-processamento e aplicação de KMeans, variando K em 4, 5 e 6.\n"
      ]
    },
    {
      "cell_type": "markdown",
      "metadata": {},
      "source": [
        "### Definir Tickers (Brasil)\n"
      ]
    },
    {
      "cell_type": "code",
      "execution_count": null,
      "metadata": {},
      "outputs": [],
      "source": [
        "tickers_br = [\n",
        "    'VALE3.SA', 'PETR4.SA', 'ITUB4.SA', 'BBDC4.SA', 'BBAS3.SA', \n",
        "    'ABEV3.SA', 'RENT3.SA', 'WEGE3.SA', 'ELET3.SA', 'SUZB3.SA', \n",
        "    'B3SA3.SA', 'GGBR4.SA', 'EGIE3.SA', 'HAPV3.SA', 'RDOR3.SA', \n",
        "    'TOTS3.SA', 'RADL3.SA', 'PRIO3.SA', 'LREN3.SA', 'MGLU3.SA', \n",
        "    'VIVT3.SA', 'SBSP3.SA', 'FLRY3.SA', 'GOAU4.SA', 'CPLE6.SA', \n",
        "    'ENGI11.SA', 'SANB11.SA', 'BPAC11.SA', 'CXSE3.SA', 'ASAI3.SA'\n",
        "]\n"
      ]
    },
    {
      "cell_type": "markdown",
      "metadata": {},
      "source": [
        "### Coletar Métricas Financeiras (Brasil)\n"
      ]
    },
    {
      "cell_type": "code",
      "execution_count": null,
      "metadata": {},
      "outputs": [],
      "source": [
        "data_br = fetch_financial_metrics(tickers_br)\n",
        "data_br.head()\n"
      ]
    },
    {
      "cell_type": "markdown",
      "metadata": {},
      "source": [
        "### Pré-processamento (apenas ROE e Dívida/Patrimônio) — Brasil\n"
      ]
    },
    {
      "cell_type": "code",
      "execution_count": null,
      "metadata": {},
      "outputs": [],
      "source": [
        "num_cols = ['roe', 'debt_to_equity']\n",
        "for col in num_cols:\n",
        "    data_br[col] = pd.to_numeric(data_br[col], errors='coerce')\n",
        "    data_br[col].fillna(data_br[col].median(), inplace=True)\n",
        "\n",
        "preprocessor_br = create_preprocessor(num_cols=num_cols)\n",
        "scaled_features_br = preview_transformation(preprocessor_br, data_br[num_cols])\n",
        "\n",
        "df_processed_br = pd.DataFrame(scaled_features_br, columns=num_cols)\n",
        "df_processed_br['ticker'] = data_br['ticker'].values\n",
        "df_processed_br.head()\n"
      ]
    },
    {
      "cell_type": "markdown",
      "metadata": {},
      "source": [
        "### KMeans e Visualizações — Brasil (K = 4, 5, 6)\n"
      ]
    },
    {
      "cell_type": "code",
      "execution_count": null,
      "metadata": {},
      "outputs": [],
      "source": [
        "results_br_4 = apply_kmeans_and_visualize(df_processed_br, data_br, optimal_k=4)\n",
        "results_br_5 = apply_kmeans_and_visualize(df_processed_br, data_br, optimal_k=5)\n",
        "results_br_6 = apply_kmeans_and_visualize(df_processed_br, data_br, optimal_k=6)\n"
      ]
    },
    {
      "cell_type": "markdown",
      "metadata": {},
      "source": [
        "## Exemplo: EUA\n",
        "\n",
        "Conjunto de tickers de empresas norte-americanas. Fluxo idêntico, variando K em 4, 5 e 6.\n"
      ]
    },
    {
      "cell_type": "markdown",
      "metadata": {},
      "source": [
        "### Definir Tickers (EUA)\n"
      ]
    },
    {
      "cell_type": "code",
      "execution_count": null,
      "metadata": {},
      "outputs": [],
      "source": [
        "tickers_usa = [\n",
        "    'AAPL', 'MSFT', 'GOOGL', 'AMZN', 'NVDA', 'TSLA', 'META',\n",
        "    'BRK-B', 'JPM', 'V', 'JNJ', 'WMT', 'UNH', 'LLY', 'XOM', 'MA',\n",
        "    'PG', 'HD', 'BAC', 'DIS', 'NFLX', 'ADBE', 'CRM', 'CSCO', 'NKE',\n",
        "    'KO', 'MCD', 'PFE', 'ORCL'\n",
        "]\n"
      ]
    },
    {
      "cell_type": "markdown",
      "metadata": {},
      "source": [
        "### Coletar Métricas Financeiras (EUA)\n"
      ]
    },
    {
      "cell_type": "code",
      "execution_count": null,
      "metadata": {},
      "outputs": [],
      "source": [
        "data_usa = fetch_financial_metrics(tickers_usa)\n",
        "data_usa.head()\n"
      ]
    },
    {
      "cell_type": "markdown",
      "metadata": {},
      "source": [
        "### Pré-processamento (apenas ROE e Dívida/Patrimônio) — EUA\n"
      ]
    },
    {
      "cell_type": "code",
      "execution_count": null,
      "metadata": {},
      "outputs": [],
      "source": [
        "num_cols = ['roe', 'debt_to_equity']\n",
        "for col in num_cols:\n",
        "    data_usa[col] = pd.to_numeric(data_usa[col], errors='coerce')\n",
        "    data_usa[col].fillna(data_usa[col].median(), inplace=True)\n",
        "\n",
        "preprocessor_usa = create_preprocessor(num_cols=num_cols)\n",
        "scaled_features_usa = preview_transformation(preprocessor_usa, data_usa[num_cols])\n",
        "\n",
        "df_processed_usa = pd.DataFrame(scaled_features_usa, columns=num_cols)\n",
        "df_processed_usa['ticker'] = data_usa['ticker'].values\n",
        "df_processed_usa.head()\n"
      ]
    },
    {
      "cell_type": "markdown",
      "metadata": {},
      "source": [
        "### KMeans e Visualizações — EUA (K = 4, 5, 6)\n"
      ]
    },
    {
      "cell_type": "code",
      "execution_count": null,
      "metadata": {},
      "outputs": [],
      "source": [
        "results_usa_4 = apply_kmeans_and_visualize(df_processed_usa, data_usa, optimal_k=4)\n",
        "results_usa_5 = apply_kmeans_and_visualize(df_processed_usa, data_usa, optimal_k=5)\n",
        "results_usa_6 = apply_kmeans_and_visualize(df_processed_usa, data_usa, optimal_k=6)\n"
      ]
    },
    {
      "cell_type": "markdown",
      "metadata": {},
      "source": [
        "## Exemplo: EUA + Brasil\n",
        "\n",
        "Conjunto unificado de tickers (EUA e Brasil). Fluxo idêntico, variando K em 4, 5 e 6.\n"
      ]
    },
    {
      "cell_type": "markdown",
      "metadata": {},
      "source": [
        "### Definir Tickers (EUA + Brasil)\n"
      ]
    },
    {
      "cell_type": "code",
      "execution_count": null,
      "metadata": {},
      "outputs": [],
      "source": [
        "tickers_usa_br = [\n",
        "    'AAPL', 'MSFT', 'GOOGL', 'AMZN', 'NVDA', 'TSLA', 'META',\n",
        "    'BRK-B', 'JPM', 'V', 'JNJ', 'WMT', 'UNH', 'LLY', 'XOM', 'MA',\n",
        "    'PG', 'HD', 'BAC', 'DIS', 'NFLX', 'ADBE', 'CRM', 'CSCO', 'NKE',\n",
        "    'KO', 'MCD', 'PFE', 'ORCL',\n",
        "    'VALE3.SA', 'PETR4.SA', 'ITUB4.SA', 'BBDC4.SA', 'BBAS3.SA', \n",
        "    'ABEV3.SA', 'RENT3.SA', 'WEGE3.SA', 'ELET3.SA', 'SUZB3.SA', \n",
        "    'B3SA3.SA', 'GGBR4.SA', 'EGIE3.SA', 'HAPV3.SA', 'RDOR3.SA', \n",
        "    'TOTS3.SA', 'RADL3.SA', 'PRIO3.SA', 'LREN3.SA', 'MGLU3.SA', \n",
        "    'VIVT3.SA', 'SBSP3.SA', 'FLRY3.SA', 'GOAU4.SA', 'CPLE6.SA', \n",
        "    'ENGI11.SA', 'SANB11.SA', 'BPAC11.SA', 'CXSE3.SA', 'ASAI3.SA'\n",
        "]\n"
      ]
    },
    {
      "cell_type": "markdown",
      "metadata": {},
      "source": [
        "### Coletar Métricas Financeiras (EUA + Brasil)\n"
      ]
    },
    {
      "cell_type": "code",
      "execution_count": null,
      "metadata": {},
      "outputs": [],
      "source": [
        "data_usa_br = fetch_financial_metrics(tickers_usa_br)\n",
        "data_usa_br.head()\n"
      ]
    },
    {
      "cell_type": "markdown",
      "metadata": {},
      "source": [
        "### Pré-processamento (apenas ROE e Dívida/Patrimônio) — EUA + Brasil\n"
      ]
    },
    {
      "cell_type": "code",
      "execution_count": null,
      "metadata": {},
      "outputs": [],
      "source": [
        "num_cols = ['roe', 'debt_to_equity']\n",
        "for col in num_cols:\n",
        "    data_usa_br[col] = pd.to_numeric(data_usa_br[col], errors='coerce')\n",
        "    data_usa_br[col].fillna(data_usa_br[col].median(), inplace=True)\n",
        "\n",
        "preprocessor_usa_br = create_preprocessor(num_cols=num_cols)\n",
        "scaled_features_usa_br = preview_transformation(preprocessor_usa_br, data_usa_br[num_cols])\n",
        "\n",
        "df_processed_usa_br = pd.DataFrame(scaled_features_usa_br, columns=num_cols)\n",
        "df_processed_usa_br['ticker'] = data_usa_br['ticker'].values\n",
        "df_processed_usa_br.head()\n"
      ]
    },
    {
      "cell_type": "markdown",
      "metadata": {},
      "source": [
        "### KMeans e Visualizações — EUA + Brasil (K = 4, 5, 6)\n"
      ]
    },
    {
      "cell_type": "code",
      "execution_count": null,
      "metadata": {},
      "outputs": [],
      "source": [
        "results_usa_br_4 = apply_kmeans_and_visualize(df_processed_usa_br, data_usa_br, optimal_k=4)\n",
        "results_usa_br_5 = apply_kmeans_and_visualize(df_processed_usa_br, data_usa_br, optimal_k=5)\n",
        "results_usa_br_6 = apply_kmeans_and_visualize(df_processed_usa_br, data_usa_br, optimal_k=6)\n"
      ]
    },
    {
      "cell_type": "markdown",
      "metadata": {},
      "source": [
        "## Análise por Cluster (opcional)\n",
        "\n",
        "As células abaixo (copiadas e traduzidas dos notebooks) ajudam a explorar estatísticas descritivas, boxplots e contagem de outliers por cluster. Você pode reexecutá-las para qualquer um dos resultados gerados acima.\n"
      ]
    },
    {
      "cell_type": "markdown",
      "metadata": {},
      "source": [
        "### Cabeçalhos dos Clusters (exibir primeiras linhas por cluster)\n",
        "\n",
        "Altere a variável `results_ref` para um dos resultados: `results_br_4`, `results_br_5`, `results_br_6`, `results_usa_4`, `results_usa_5`, `results_usa_6`, `results_usa_br_4`, `results_usa_br_5`, `results_usa_br_6`.\n"
      ]
    },
    {
      "cell_type": "code",
      "execution_count": null,
      "metadata": {},
      "outputs": [],
      "source": [
        "# Selecione qual resultado você quer inspecionar\n",
        "results_ref = results_br_4  # mude aqui conforme necessário\n",
        "\n",
        "for cluster_id in sorted(results_ref['Cluster'].unique()):\n",
        "    print(f\"\\nCluster {cluster_id}:\")\n",
        "    display(results_ref[results_ref['Cluster'] == cluster_id].head())\n"
      ]
    },
    {
      "cell_type": "markdown",
      "metadata": {},
      "source": [
        "### Estatísticas descritivas por cluster\n",
        "\n",
        "Exibe média, mediana, desvio padrão, mínimo e máximo para `roe` e `debt_to_equity` do `results_ref` selecionado.\n"
      ]
    },
    {
      "cell_type": "code",
      "execution_count": null,
      "metadata": {},
      "outputs": [],
      "source": [
        "for cluster_id in sorted(results_ref['Cluster'].unique()):\n",
        "    print(f\"\\nCluster {cluster_id}:\")\n",
        "    cluster_df = results_ref[results_ref['Cluster'] == cluster_id]\n",
        "    print(\"Média:\")\n",
        "    print(cluster_df[['roe', 'debt_to_equity']].mean())\n",
        "    print(\"Mediana:\")\n",
        "    print(cluster_df[['roe', 'debt_to_equity']].median())\n",
        "    print(\"Desvio padrão:\")\n",
        "    print(cluster_df[['roe', 'debt_to_equity']].std())\n",
        "    print(\"Mínimo:\")\n",
        "    print(cluster_df[['roe', 'debt_to_equity']].min())\n",
        "    print(\"Máximo:\")\n",
        "    print(cluster_df[['roe', 'debt_to_equity']].max())\n"
      ]
    },
    {
      "cell_type": "markdown",
      "metadata": {},
      "source": [
        "### Boxplots por cluster\n",
        "\n",
        "Visualiza a distribuição e possíveis outliers de `roe` e `debt_to_equity` por cluster no `results_ref`.\n"
      ]
    },
    {
      "cell_type": "code",
      "execution_count": null,
      "metadata": {},
      "outputs": [],
      "source": [
        "import matplotlib.pyplot as plt\n",
        "import seaborn as sns\n",
        "\n",
        "for var in ['roe', 'debt_to_equity']:\n",
        "    plt.figure(figsize=(8,5))\n",
        "    sns.boxplot(x='Cluster', y=var, data=results_ref)\n",
        "    plt.title(f'Distribuição de {var} por Cluster')\n",
        "    plt.show()\n"
      ]
    },
    {
      "cell_type": "markdown",
      "metadata": {},
      "source": [
        "### Contagem de outliers por cluster (método do IQR)\n",
        "\n",
        "Conta outliers por cluster para cada variável no `results_ref`.\n"
      ]
    },
    {
      "cell_type": "code",
      "execution_count": null,
      "metadata": {},
      "outputs": [],
      "source": [
        "def count_outliers(series):\n",
        "    q1 = series.quantile(0.25)\n",
        "    q3 = series.quantile(0.75)\n",
        "    iqr = q3 - q1\n",
        "    lower = q1 - 1.5 * iqr\n",
        "    upper = q3 + 1.5 * iqr\n",
        "    return ((series < lower) | (series > upper)).sum()\n",
        "\n",
        "for cluster_id in sorted(results_ref['Cluster'].unique()):\n",
        "    cluster_df = results_ref[results_ref['Cluster'] == cluster_id]\n",
        "    print(f\"\\nCluster {cluster_id} - Outliers:\")\n",
        "    for var in ['roe', 'debt_to_equity']:\n",
        "        n_out = count_outliers(cluster_df[var])\n",
        "        print(f\"{var}: {n_out} outliers\")\n"
      ]
    }
  ],
  "metadata": {
    "language_info": {
      "name": "python"
    }
  },
  "nbformat": 4,
  "nbformat_minor": 2
}
