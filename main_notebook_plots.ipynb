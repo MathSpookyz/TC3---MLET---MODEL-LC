{
  "cells": [
    {
      "cell_type": "markdown",
      "metadata": {},
      "source": [
        "# Plots de EDA (a partir de main.py)\n",
        "\n",
        "Este notebook replica os gráficos gerados em `main.py`: estatísticas descritivas, histogramas por variável numérica e matriz de correlação. O código foi mantido equivalente ao script, apenas organizado em células.\n"
      ]
    },
    {
      "cell_type": "code",
      "execution_count": null,
      "metadata": {},
      "outputs": [],
      "source": [
        "from src.data_processing import fetch_financial_metrics\n",
        "from src.preprocessing import create_preprocessor, preview_transformation\n",
        "from src.eda import summary_statistics, plot_distribution, plot_correlation_matrix\n",
        "import pandas as pd\n",
        "import os\n",
        "from sklearn.preprocessing import OneHotEncoder  # presente em main.py\n",
        "\n",
        "# --- Tickers ---\n",
        "tickers = [\n",
        "    'AAPL', 'MSFT', 'GOOGL', 'AMZN', 'NVDA', 'TSLA', 'META',\n",
        "    'BRK-B', 'JPM', 'V', 'JNJ', 'WMT', 'UNH', 'LLY', 'XOM', 'MA',\n",
        "    'PG', 'HD', 'BAC', 'DIS', 'NFLX', 'ADBE', 'CRM', 'CSCO', 'NKE',\n",
        "    'KO', 'MCD', 'PFE', 'ORCL',\n",
        "    'VALE3.SA', 'PETR4.SA', 'ITUB4.SA', 'BBDC4.SA', 'BBAS3.SA', \n",
        "    'ABEV3.SA', 'RENT3.SA', 'WEGE3.SA', 'ELET3.SA', 'SUZB3.SA', \n",
        "    'B3SA3.SA', 'GGBR4.SA', 'EGIE3.SA', 'HAPV3.SA', 'RDOR3.SA', \n",
        "    'TOTS3.SA', 'RADL3.SA', 'PRIO3.SA', 'LREN3.SA', 'MGLU3.SA', \n",
        "    'VIVT3.SA', 'SBSP3.SA', 'FLRY3.SA', 'GOAU4.SA', 'CPLE6.SA', \n",
        "    'ENGI11.SA', 'SANB11.SA', 'BPAC11.SA', 'CXSE3.SA', 'ASAI3.SA'\n",
        "]\n"
      ]
    },
    {
      "cell_type": "code",
      "execution_count": null,
      "metadata": {},
      "outputs": [],
      "source": [
        "# --- Coleta de métricas financeiras ---\n",
        "df = fetch_financial_metrics(tickers)\n",
        "\n",
        "# --- Pré-processamento ---\n",
        "num_cols = ['roe','debt_to_equity','profit_margins','beta','market_cap',\n",
        "            'net_income','total_equity','total_debt']\n",
        "\n",
        "# Garantir que colunas numéricas são float\n",
        "for col in num_cols:\n",
        "    df[col] = pd.to_numeric(df[col], errors='coerce')\n",
        "    df[col].fillna(df[col].median(), inplace=True)\n",
        "\n",
        "preprocessor = create_preprocessor(num_cols=num_cols)\n",
        "X_transformed = preview_transformation(preprocessor, df[num_cols])\n",
        "\n",
        "df_processed = pd.DataFrame(X_transformed, columns=num_cols)\n",
        "df_processed['ticker'] = df['ticker'].values  # opcional, para referência\n"
      ]
    },
    {
      "cell_type": "markdown",
      "metadata": {},
      "source": [
        "## Estatísticas descritivas (numéricas)\n",
        "\n",
        "Equivalente à chamada `summary_statistics(df[num_cols])` no script.\n"
      ]
    },
    {
      "cell_type": "code",
      "execution_count": null,
      "metadata": {},
      "outputs": [],
      "source": [
        "summary_statistics(df[num_cols])\n"
      ]
    },
    {
      "cell_type": "markdown",
      "metadata": {},
      "source": [
        "## Histogramas por variável numérica\n",
        "\n",
        "Equivalente ao laço `for` que chama `plot_distribution(df, col)` para cada coluna em `num_cols`.\n"
      ]
    },
    {
      "cell_type": "code",
      "execution_count": null,
      "metadata": {},
      "outputs": [],
      "source": [
        "for col in num_cols:\n",
        "    plot_distribution(df, col)\n"
      ]
    },
    {
      "cell_type": "markdown",
      "metadata": {},
      "source": [
        "## Matriz de correlação (numéricas)\n",
        "\n",
        "Equivalente à chamada `plot_correlation_matrix(df[num_cols])` no script.\n"
      ]
    },
    {
      "cell_type": "code",
      "execution_count": null,
      "metadata": {},
      "outputs": [],
      "source": [
        "plot_correlation_matrix(df[num_cols])\n"
      ]
    }
  ],
  "metadata": {
    "language_info": {
      "name": "python"
    }
  },
  "nbformat": 4,
  "nbformat_minor": 2
}
